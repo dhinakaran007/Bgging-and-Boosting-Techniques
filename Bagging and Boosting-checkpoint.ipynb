{
 "cells": [
  {
   "cell_type": "code",
   "execution_count": 34,
   "id": "c6c87443",
   "metadata": {},
   "outputs": [],
   "source": [
    "import pandas as pd\n",
    "import matplotlib.pyplot as plt\n",
    "import seaborn as sns\n",
    "import sklearn\n",
    "from sklearn.datasets import load_iris\n",
    "from sklearn.model_selection import train_test_split\n",
    "from sklearn.linear_model import LogisticRegression\n",
    "from sklearn.metrics import accuracy_score, confusion_matrix, classification_report\n",
    "from sklearn.decomposition import PCA"
   ]
  },
  {
   "cell_type": "code",
   "execution_count": 7,
   "id": "3602d2b0",
   "metadata": {},
   "outputs": [],
   "source": [
    "data = load_iris()"
   ]
  },
  {
   "cell_type": "code",
   "execution_count": 8,
   "id": "aad2b58f",
   "metadata": {},
   "outputs": [],
   "source": [
    "X = data.data\n",
    "y = data.target"
   ]
  },
  {
   "cell_type": "code",
   "execution_count": 27,
   "id": "eb601089",
   "metadata": {},
   "outputs": [],
   "source": [
    "X_train, X_test, y_train, y_test = train_test_split(X,y, test_size=0.25, random_state=0)"
   ]
  },
  {
   "cell_type": "code",
   "execution_count": 28,
   "id": "e1053fb1",
   "metadata": {},
   "outputs": [
    {
     "data": {
      "text/plain": [
       "((112, 4), (38, 4), (112,), (38,))"
      ]
     },
     "execution_count": 28,
     "metadata": {},
     "output_type": "execute_result"
    }
   ],
   "source": [
    "X_train.shape, X_test.shape, y_train.shape, y_test.shape"
   ]
  },
  {
   "cell_type": "code",
   "execution_count": 29,
   "id": "e95b0434",
   "metadata": {},
   "outputs": [
    {
     "name": "stderr",
     "output_type": "stream",
     "text": [
      "c:\\Users\\User\\AppData\\Local\\Programs\\Python\\Python39\\lib\\site-packages\\sklearn\\linear_model\\_logistic.py:814: ConvergenceWarning: lbfgs failed to converge (status=1):\n",
      "STOP: TOTAL NO. of ITERATIONS REACHED LIMIT.\n",
      "\n",
      "Increase the number of iterations (max_iter) or scale the data as shown in:\n",
      "    https://scikit-learn.org/stable/modules/preprocessing.html\n",
      "Please also refer to the documentation for alternative solver options:\n",
      "    https://scikit-learn.org/stable/modules/linear_model.html#logistic-regression\n",
      "  n_iter_i = _check_optimize_result(\n"
     ]
    },
    {
     "data": {
      "text/plain": [
       "LogisticRegression()"
      ]
     },
     "execution_count": 29,
     "metadata": {},
     "output_type": "execute_result"
    }
   ],
   "source": [
    "model = LogisticRegression()\n",
    "model.fit(X_train, y_train)"
   ]
  },
  {
   "cell_type": "code",
   "execution_count": 30,
   "id": "762b2c08",
   "metadata": {},
   "outputs": [],
   "source": [
    "pre = model.predict(X_test)"
   ]
  },
  {
   "cell_type": "code",
   "execution_count": 31,
   "id": "3e8ac881",
   "metadata": {},
   "outputs": [
    {
     "data": {
      "text/plain": [
       "array([[13,  0,  0],\n",
       "       [ 0, 15,  1],\n",
       "       [ 0,  0,  9]], dtype=int64)"
      ]
     },
     "execution_count": 31,
     "metadata": {},
     "output_type": "execute_result"
    }
   ],
   "source": [
    "confusion_matrix(y_test,pre)"
   ]
  },
  {
   "cell_type": "code",
   "execution_count": 32,
   "id": "fca75c4e",
   "metadata": {},
   "outputs": [
    {
     "data": {
      "text/plain": [
       "0.9736842105263158"
      ]
     },
     "execution_count": 32,
     "metadata": {},
     "output_type": "execute_result"
    }
   ],
   "source": [
    "accuracy_score(y_test,pre)"
   ]
  },
  {
   "cell_type": "code",
   "execution_count": 33,
   "id": "ab609ef5",
   "metadata": {},
   "outputs": [
    {
     "name": "stdout",
     "output_type": "stream",
     "text": [
      "              precision    recall  f1-score   support\n",
      "\n",
      "           0       1.00      1.00      1.00        13\n",
      "           1       1.00      0.94      0.97        16\n",
      "           2       0.90      1.00      0.95         9\n",
      "\n",
      "    accuracy                           0.97        38\n",
      "   macro avg       0.97      0.98      0.97        38\n",
      "weighted avg       0.98      0.97      0.97        38\n",
      "\n"
     ]
    }
   ],
   "source": [
    "z = classification_report(y_test,pre)\n",
    "print(z)"
   ]
  },
  {
   "cell_type": "code",
   "execution_count": 35,
   "id": "d68ab06a",
   "metadata": {},
   "outputs": [],
   "source": [
    "pca = PCA(n_components=0.95)"
   ]
  },
  {
   "cell_type": "code",
   "execution_count": 36,
   "id": "56789810",
   "metadata": {},
   "outputs": [
    {
     "name": "stdout",
     "output_type": "stream",
     "text": [
      "[[ 0.45149168 -0.12650805]\n",
      " [ 0.16235194 -0.43115786]\n",
      " [ 2.11263303  0.14898743]\n",
      " [-2.94949688 -0.08892385]\n",
      " [ 1.87495486  0.34554795]\n",
      " [-2.45736119  0.23886415]\n",
      " [-2.54886975  0.68862204]\n",
      " [-0.59653901 -1.27590863]\n",
      " [ 1.89191153 -0.01527315]\n",
      " [ 2.36903557  0.24564653]\n",
      " [ 1.22332113 -0.81624523]\n",
      " [ 2.25580406 -0.32359729]\n",
      " [-0.0273682  -0.60537211]\n",
      " [ 3.03413563  0.58443272]\n",
      " [ 1.04377358  0.2496689 ]\n",
      " [-0.14351451 -0.72483283]\n",
      " [ 1.32571853 -0.25581512]\n",
      " [ 1.3815772  -0.19429022]\n",
      " [ 0.43543685 -1.19895412]\n",
      " [ 1.4600531  -0.4330191 ]\n",
      " [ 1.24211062  0.62624245]\n",
      " [ 1.70835619  0.0248679 ]\n",
      " [ 0.7539176   0.17495947]\n",
      " [-2.64980561 -0.15749794]\n",
      " [ 1.34366364 -0.61243277]\n",
      " [ 0.28660808 -0.52503126]\n",
      " [-0.23747516 -0.26307894]\n",
      " [ 0.0919651  -0.70155064]\n",
      " [ 0.83140506 -0.06797287]\n",
      " [ 2.56785609  0.48022052]\n",
      " [-2.58651939  0.62621997]\n",
      " [-3.29301297 -0.4450009 ]\n",
      " [ 1.73983065 -0.2749791 ]\n",
      " [ 0.26841982 -0.22836656]\n",
      " [-2.35868689  0.4250492 ]\n",
      " [-2.41053777  1.38929738]\n",
      " [ 1.41729221  0.44369505]\n",
      " [-2.81023947 -0.2638227 ]\n",
      " [ 1.32547538 -0.31576806]\n",
      " [-0.98182756 -0.75106807]\n",
      " [-2.87936357 -0.02637778]\n",
      " [ 0.87294756 -0.59904421]\n",
      " [ 2.87790836  0.71035347]\n",
      " [ 0.31098192 -0.31155313]\n",
      " [-2.84936104 -0.18842868]\n",
      " [ 2.56612025  0.26227614]\n",
      " [ 2.37912438  0.31020973]\n",
      " [ 2.291012   -0.10130545]\n",
      " [ 2.06044483 -0.27017629]\n",
      " [-2.58332201  0.55847448]\n",
      " [-2.66971933  0.06911615]\n",
      " [ 1.60994581  0.19442333]\n",
      " [ 2.22533881  0.2762407 ]\n",
      " [-2.92913083 -0.90121881]\n",
      " [ 1.84689735  0.07990943]\n",
      " [-2.77578721 -0.13367515]\n",
      " [ 1.27007942 -0.81508007]\n",
      " [ 2.0585102   0.30540691]\n",
      " [-3.06244581 -0.27613006]\n",
      " [-2.77796499  0.38195511]\n",
      " [ 2.33901438  0.3814003 ]\n",
      " [-2.69775325  0.3611706 ]\n",
      " [-3.04917    -0.42720612]\n",
      " [-2.32002804  0.78744226]\n",
      " [ 0.10524091 -0.8526267 ]\n",
      " [ 2.51174388  0.2108489 ]\n",
      " [ 3.35031047  0.44493085]\n",
      " [-2.73367744  0.36881914]\n",
      " [-2.69729054 -0.07661649]\n",
      " [-2.68938989  0.35568318]\n",
      " [ 0.57302353 -0.44252929]\n",
      " [ 0.84938414  0.28099623]\n",
      " [-2.92168251  0.11676174]\n",
      " [-2.35722535  0.13935933]\n",
      " [ 0.659664    0.10678198]\n",
      " [-2.45710766  0.44671086]\n",
      " [ 3.74176382  0.13444559]\n",
      " [-0.83100942 -0.99919983]\n",
      " [ 3.20396283  1.28104861]\n",
      " [ 0.88039588  0.41893634]\n",
      " [-2.68664484  0.87361857]\n",
      " [ 1.10772131 -0.19792786]\n",
      " [-2.6735886   1.22028254]\n",
      " [ 3.4504463   0.34542603]\n",
      " [-2.6325324   0.56930532]\n",
      " [-2.69409316 -0.14436198]\n",
      " [ 2.79076575  0.27674462]\n",
      " [-2.75805128  0.15534101]\n",
      " [ 2.09074032  0.0977042 ]\n",
      " [ 0.23248525 -0.36861179]\n",
      " [ 0.07057947 -0.33714045]\n",
      " [-0.37281893 -0.38586596]\n",
      " [ 1.85033788  0.07211688]\n",
      " [ 1.89142805  0.12672641]\n",
      " [ 1.23122177 -0.38394555]\n",
      " [ 1.50561378  0.20957642]\n",
      " [-2.56786842 -0.10823183]\n",
      " [-0.26457327 -0.69870491]\n",
      " [ 2.26125262  0.12069839]\n",
      " [ 1.34366364 -0.61243277]\n",
      " [-2.64190497  0.27480174]\n",
      " [ 0.990367    0.17614799]\n",
      " [ 0.1815598  -0.27993779]\n",
      " [ 1.05679586 -0.10925387]\n",
      " [ 0.74697635 -0.42732765]\n",
      " [-2.66821344  0.6369068 ]\n",
      " [-2.5899703   0.48611874]\n",
      " [-2.73321473 -0.06896795]\n",
      " [ 1.90838472 -0.2340947 ]\n",
      " [ 0.16900023 -0.35880212]\n",
      " [ 3.45591563  1.08550925]\n",
      " [-2.90201195 -0.1698053 ]]\n"
     ]
    }
   ],
   "source": [
    "pca.fit(X_train)\n",
    "X_train_transformed = pca.transform(X_train)\n",
    "print(X_train_transformed)"
   ]
  },
  {
   "cell_type": "code",
   "execution_count": 37,
   "id": "16916548",
   "metadata": {},
   "outputs": [
    {
     "name": "stdout",
     "output_type": "stream",
     "text": [
      "[[ 1.78575802e+00  4.27158819e-01]\n",
      " [ 4.80978405e-01  3.27913925e-01]\n",
      " [-2.52209578e+00 -8.82194587e-01]\n",
      " [ 3.05759598e+00 -7.46046923e-01]\n",
      " [-2.46487441e+00  7.68038081e-04]\n",
      " [ 2.68246175e+00 -1.50232654e-01]\n",
      " [-2.61935444e+00 -6.88553034e-02]\n",
      " [ 1.34399089e+00 -6.16776004e-01]\n",
      " [ 1.47101711e+00 -5.15756817e-01]\n",
      " [ 5.26873886e-01 -7.25958860e-02]\n",
      " [ 1.99009145e+00  2.39795613e-01]\n",
      " [ 1.06431709e+00 -4.65568136e-01]\n",
      " [ 1.10326930e+00 -7.33208241e-03]\n",
      " [ 1.24155751e+00 -2.91294587e-01]\n",
      " [ 1.15878760e+00 -4.16002565e-02]\n",
      " [-2.64741892e+00 -6.59829743e-02]\n",
      " [ 9.89294397e-01  2.69775701e-02]\n",
      " [ 6.91178932e-01  5.47299404e-01]\n",
      " [-2.51709358e+00  3.99503817e-01]\n",
      " [-2.52405763e+00 -6.08664580e-01]\n",
      " [ 1.41006079e+00  5.08701867e-01]\n",
      " [ 8.54391567e-01  2.78487411e-01]\n",
      " [-2.17533247e+00  2.01371984e-01]\n",
      " [-2.65730051e+00  7.58536195e-01]\n",
      " [ 1.43209457e+00  3.87797792e-03]\n",
      " [-3.05163269e+00  1.36119485e-01]\n",
      " [-2.07477469e+00 -2.47499694e-01]\n",
      " [ 8.04018299e-01 -1.77257397e-01]\n",
      " [-4.45463202e-01  9.68817777e-01]\n",
      " [-2.30700899e+00  3.79387159e-02]\n",
      " [ 2.05879045e+00 -2.54524125e-01]\n",
      " [ 7.94425169e-01  4.34371815e-01]\n",
      " [-2.41987805e+00 -2.15375332e-01]\n",
      " [ 1.45954839e+00 -2.75178670e-02]\n",
      " [ 2.33205430e+00 -1.05857560e-02]\n",
      " [ 2.19862213e-01  6.90958407e-01]\n",
      " [-2.10487383e+00 -7.50508072e-01]\n",
      " [ 1.57874113e+00  2.27570213e-01]]\n"
     ]
    }
   ],
   "source": [
    "pca.fit(X_test)\n",
    "X_test_transformed = pca.transform(X_test)\n",
    "print(X_test_transformed)"
   ]
  },
  {
   "cell_type": "code",
   "execution_count": 41,
   "id": "a277c51e",
   "metadata": {},
   "outputs": [
    {
     "data": {
      "text/plain": [
       "LogisticRegression(penalty='l1', solver='liblinear')"
      ]
     },
     "execution_count": 41,
     "metadata": {},
     "output_type": "execute_result"
    }
   ],
   "source": [
    "model2 = LogisticRegression(penalty='l1', solver='liblinear')\n",
    "model2.fit(X_train_transformed,y_train)"
   ]
  },
  {
   "cell_type": "code",
   "execution_count": 42,
   "id": "23e474b0",
   "metadata": {},
   "outputs": [],
   "source": [
    "pre2 = model2.predict(X_test_transformed)"
   ]
  },
  {
   "cell_type": "code",
   "execution_count": 46,
   "id": "1332af25",
   "metadata": {},
   "outputs": [
    {
     "data": {
      "text/plain": [
       "(array([2, 1, 0, 2, 0, 2, 0, 1, 1, 1, 2, 1, 1, 1, 1, 0, 1, 1, 0, 0, 2, 1,\n",
       "        0, 0, 2, 0, 0, 1, 1, 0, 2, 1, 0, 2, 2, 1, 0, 1]),\n",
       " array([2, 1, 0, 2, 0, 2, 0, 1, 1, 1, 2, 1, 1, 1, 1, 0, 1, 1, 0, 0, 2, 1,\n",
       "        0, 0, 2, 0, 0, 1, 1, 0, 2, 1, 0, 2, 2, 1, 0, 2]),\n",
       " array([2, 1, 0, 2, 0, 2, 0, 2, 2, 1, 2, 2, 2, 2, 2, 0, 1, 1, 0, 0, 2, 1,\n",
       "        0, 0, 2, 0, 0, 1, 0, 0, 2, 1, 0, 2, 2, 1, 0, 2]))"
      ]
     },
     "execution_count": 46,
     "metadata": {},
     "output_type": "execute_result"
    }
   ],
   "source": [
    "y_test,pre,pre2"
   ]
  },
  {
   "cell_type": "code",
   "execution_count": 47,
   "id": "b21cb384",
   "metadata": {},
   "outputs": [
    {
     "data": {
      "text/plain": [
       "array([[13,  0,  0],\n",
       "       [ 1,  8,  7],\n",
       "       [ 0,  0,  9]], dtype=int64)"
      ]
     },
     "execution_count": 47,
     "metadata": {},
     "output_type": "execute_result"
    }
   ],
   "source": [
    "confusion_matrix(y_test,pre2)"
   ]
  },
  {
   "cell_type": "code",
   "execution_count": 44,
   "id": "21e9f304",
   "metadata": {},
   "outputs": [
    {
     "data": {
      "text/plain": [
       "0.7894736842105263"
      ]
     },
     "execution_count": 44,
     "metadata": {},
     "output_type": "execute_result"
    }
   ],
   "source": [
    "accuracy_score(y_test,pre2)"
   ]
  },
  {
   "cell_type": "code",
   "execution_count": 48,
   "id": "c18bfc6a",
   "metadata": {},
   "outputs": [
    {
     "name": "stdout",
     "output_type": "stream",
     "text": [
      "              precision    recall  f1-score   support\n",
      "\n",
      "           0       0.93      1.00      0.96        13\n",
      "           1       1.00      0.50      0.67        16\n",
      "           2       0.56      1.00      0.72         9\n",
      "\n",
      "    accuracy                           0.79        38\n",
      "   macro avg       0.83      0.83      0.78        38\n",
      "weighted avg       0.87      0.79      0.78        38\n",
      "\n"
     ]
    }
   ],
   "source": [
    "y = classification_report(y_test,pre2)\n",
    "print(y)"
   ]
  }
 ],
 "metadata": {
  "interpreter": {
   "hash": "cf92aa13fedf815d5c8dd192b8d835913fde3e8bc926b2a0ad6cc74ef2ba3ca2"
  },
  "kernelspec": {
   "display_name": "Python 3.9.7 64-bit",
   "language": "python",
   "name": "python3"
  },
  "language_info": {
   "codemirror_mode": {
    "name": "ipython",
    "version": 3
   },
   "file_extension": ".py",
   "mimetype": "text/x-python",
   "name": "python",
   "nbconvert_exporter": "python",
   "pygments_lexer": "ipython3",
   "version": "3.9.7"
  }
 },
 "nbformat": 4,
 "nbformat_minor": 5
}
